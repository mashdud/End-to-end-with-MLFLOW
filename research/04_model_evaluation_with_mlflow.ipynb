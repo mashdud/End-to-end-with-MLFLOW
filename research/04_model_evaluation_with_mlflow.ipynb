{
 "cells": [
  {
   "cell_type": "code",
   "execution_count": 3,
   "metadata": {},
   "outputs": [
    {
     "name": "stdout",
     "output_type": "stream",
     "text": [
      "New working directory: C:\\Users\\shuda\\End-to-end-with-MLFLOW\n"
     ]
    }
   ],
   "source": [
    "import os\n",
    "\n",
    "%pwd\n",
    "\n",
    "%pwd\n",
    "\n",
    "\n",
    "# Change to your project directory where config.yaml exists\n",
    "os.chdir('C:/Users/shuda/End-to-end-with-MLFLOW')\n",
    "print(f\"New working directory: {os.getcwd()}\")\n",
    "\n",
    "\n",
    "\n",
    "os.environ[\"MLFLOW_TRACKING_URI\"]=\"https://dagshub.com/mashdud/End-to-end-with-MLFLOW.mlflow/#/\"\n",
    "os.environ[\"MLFLOW_TRACKING_USERNAME\"]=\"\"\n",
    "os.environ[\"MLFLOW_TRACKING_PASSWORD\"]=\"Mokkk@9005\"\n",
    "\n",
    "\n",
    "\n",
    "\n",
    "# export MLFLOW_TRACKING_URI=https://dagshub.com/mashdud/End-to-end-with-MLFLOW.mlflow/#/\n",
    "\n",
    "\n"
   ]
  }
 ],
 "metadata": {
  "kernelspec": {
   "display_name": "cancer",
   "language": "python",
   "name": "python3"
  },
  "language_info": {
   "codemirror_mode": {
    "name": "ipython",
    "version": 3
   },
   "file_extension": ".py",
   "mimetype": "text/x-python",
   "name": "python",
   "nbconvert_exporter": "python",
   "pygments_lexer": "ipython3",
   "version": "3.8.0"
  }
 },
 "nbformat": 4,
 "nbformat_minor": 2
}
